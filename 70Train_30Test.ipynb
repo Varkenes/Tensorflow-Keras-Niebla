{
  "nbformat": 4,
  "nbformat_minor": 0,
  "metadata": {
    "colab": {
      "name": "70Train-30Test.ipynb",
      "provenance": [],
      "collapsed_sections": [],
      "authorship_tag": "ABX9TyMT76VSJM1h5IbEjGFEoWyv",
      "include_colab_link": true
    },
    "kernelspec": {
      "name": "python3",
      "display_name": "Python 3"
    },
    "language_info": {
      "name": "python"
    }
  },
  "cells": [
    {
      "cell_type": "markdown",
      "metadata": {
        "id": "view-in-github",
        "colab_type": "text"
      },
      "source": [
        "<a href=\"https://colab.research.google.com/github/Varkenes/Tensorflow-Keras-Niebla/blob/main/70Train_30Test.ipynb\" target=\"_parent\"><img src=\"https://colab.research.google.com/assets/colab-badge.svg\" alt=\"Open In Colab\"/></a>"
      ]
    },
    {
      "cell_type": "code",
      "metadata": {
        "id": "oRRsWCm6oTn2"
      },
      "source": [
        "import pandas as pd\n",
        "import matplotlib as mpl\n",
        "import matplotlib.pyplot as plt\n",
        "import numpy as np\n",
        "import tensorflow as tf\n",
        "from tensorflow import keras\n",
        "from tensorflow.keras import layers\n",
        "from sklearn.metrics import mean_squared_error, r2_score\n",
        "\n",
        "\n",
        "from sklearn.model_selection import train_test_split\n",
        "from keras.preprocessing.sequence import TimeseriesGenerator\n",
        "from sklearn.preprocessing import MinMaxScaler, StandardScaler\n",
        "from sklearn.model_selection import train_test_split\n"
      ],
      "execution_count": null,
      "outputs": []
    },
    {
      "cell_type": "markdown",
      "metadata": {
        "id": "ZRVr8p-D8QaA"
      },
      "source": [
        "# **Lectura de datos:**"
      ]
    },
    {
      "cell_type": "code",
      "metadata": {
        "id": "O6SUz4gcKjb0"
      },
      "source": [
        "df = pd.read_csv('https://raw.githubusercontent.com/Varkenes/Tensorflow-Keras-Niebla/main/70%20entrenamiento%20niebla.csv')"
      ],
      "execution_count": null,
      "outputs": []
    },
    {
      "cell_type": "code",
      "metadata": {
        "colab": {
          "base_uri": "https://localhost:8080/"
        },
        "id": "RYxxsahzsiN6",
        "collapsed": true,
        "outputId": "f99da0ad-04dc-4f26-edd6-9f6ff2160a2a"
      },
      "source": [
        "print(df)"
      ],
      "execution_count": null,
      "outputs": [
        {
          "output_type": "stream",
          "text": [
            "       N     T (°C)     HR (%)  ...        Vy  Nubosidad(%)  Flujo (L/día)\n",
            "0     12  17.470833  49.156250  ...  0.086527             6           0.00\n",
            "1      6  18.611458  50.416667  ... -0.087348             7           0.00\n",
            "2     36  12.633333  74.333333  ...  0.061945            99           0.00\n",
            "3    148   9.995238  78.976190  ...  0.011856             6           0.00\n",
            "4    181  12.193939  88.606061  ...  0.160884           100           0.00\n",
            "..   ...        ...        ...  ...       ...           ...            ...\n",
            "142  190  11.731250  90.104167  ...  0.024998            85           0.06\n",
            "143  168  14.535556  61.022222  ... -0.056594             9           0.00\n",
            "144  161   9.745833  86.750000  ...  0.120831           100           0.00\n",
            "145   30  17.114141  34.767677  ... -0.013711             5           0.14\n",
            "146  127   9.321622  84.189189  ...  0.012399            48           0.00\n",
            "\n",
            "[147 rows x 9 columns]\n"
          ],
          "name": "stdout"
        }
      ]
    },
    {
      "cell_type": "code",
      "metadata": {
        "id": "sbQmgp-7WaF_"
      },
      "source": [
        "dataset = df.values"
      ],
      "execution_count": null,
      "outputs": []
    },
    {
      "cell_type": "code",
      "metadata": {
        "colab": {
          "base_uri": "https://localhost:8080/"
        },
        "collapsed": true,
        "id": "ylucl4lcY5_e",
        "outputId": "0377f865-5ff7-47ff-fe5e-5c70f4cf931e"
      },
      "source": [
        "print(dataset)"
      ],
      "execution_count": null,
      "outputs": [
        {
          "output_type": "stream",
          "text": [
            "[[ 1.20000000e+01  1.74708333e+01  4.91562500e+01 ...  8.65271980e-02\n",
            "   6.00000000e+00  0.00000000e+00]\n",
            " [ 6.00000000e+00  1.86114583e+01  5.04166667e+01 ... -8.73477370e-02\n",
            "   7.00000000e+00  0.00000000e+00]\n",
            " [ 3.60000000e+01  1.26333333e+01  7.43333333e+01 ...  6.19447680e-02\n",
            "   9.90000000e+01  0.00000000e+00]\n",
            " ...\n",
            " [ 1.61000000e+02  9.74583333e+00  8.67500000e+01 ...  1.20830689e-01\n",
            "   1.00000000e+02  0.00000000e+00]\n",
            " [ 3.00000000e+01  1.71141414e+01  3.47676768e+01 ... -1.37106700e-02\n",
            "   5.00000000e+00  1.40000000e-01]\n",
            " [ 1.27000000e+02  9.32162162e+00  8.41891892e+01 ...  1.23986360e-02\n",
            "   4.80000000e+01  0.00000000e+00]]\n"
          ],
          "name": "stdout"
        }
      ]
    },
    {
      "cell_type": "markdown",
      "metadata": {
        "id": "sVoEkQZl8cfH"
      },
      "source": [
        "# **Definiendo Variables**\n",
        "Acá se mejoró esta línea de código separando los las variables input y output de prueba (x_train e y_train) y las variables input y output (x_test e y_test), 70 y 30 % respectivamete de manera aleatoria."
      ]
    },
    {
      "cell_type": "code",
      "metadata": {
        "id": "JqnNT1k2aVtn"
      },
      "source": [
        "X=dataset[0:,1:8]\n",
        "Y=dataset[:,8]"
      ],
      "execution_count": null,
      "outputs": []
    },
    {
      "cell_type": "code",
      "metadata": {
        "colab": {
          "base_uri": "https://localhost:8080/"
        },
        "id": "Zyv-xMo79eNJ",
        "collapsed": true,
        "outputId": "571bfdbc-7fa7-4cce-fb90-abcee3690c79"
      },
      "source": [
        "print(X)\n",
        "entrenamientodedatos = X\n",
        "np.savetxt(\"entrenamientodedatos70_30.csv\", entrenamientodedatos, delimiter=\",\")"
      ],
      "execution_count": null,
      "outputs": [
        {
          "output_type": "stream",
          "text": [
            "[[ 1.74708333e+01  4.91562500e+01  1.01184375e+03 ... -5.85290697e-01\n",
            "   8.65271980e-02  6.00000000e+00]\n",
            " [ 1.86114583e+01  5.04166667e+01  1.01187500e+03 ... -6.10434067e-01\n",
            "  -8.73477370e-02  7.00000000e+00]\n",
            " [ 1.26333333e+01  7.43333333e+01  1.01415208e+03 ... -1.95765553e-01\n",
            "   6.19447680e-02  9.90000000e+01]\n",
            " ...\n",
            " [ 9.74583333e+00  8.67500000e+01  1.00797500e+03 ... -7.94890325e-01\n",
            "   1.20830689e-01  1.00000000e+02]\n",
            " [ 1.71141414e+01  3.47676768e+01  1.01310707e+03 ... -2.81433973e-01\n",
            "  -1.37106700e-02  5.00000000e+00]\n",
            " [ 9.32162162e+00  8.41891892e+01  1.01521875e+03 ... -4.28765339e-01\n",
            "   1.23986360e-02  4.80000000e+01]]\n"
          ],
          "name": "stdout"
        }
      ]
    },
    {
      "cell_type": "code",
      "metadata": {
        "colab": {
          "base_uri": "https://localhost:8080/"
        },
        "id": "Axa13fZW7z2A",
        "collapsed": true,
        "outputId": "f6bd1fbe-8d7f-49db-a684-4667ca2cbc30"
      },
      "source": [
        "print(Y)\n",
        "testeodedatos = Y\n",
        "np.savetxt(\"testdedatos70_30.csv\", testeodedatos, delimiter=\",\")"
      ],
      "execution_count": null,
      "outputs": [
        {
          "output_type": "stream",
          "text": [
            "[0.   0.   0.   0.   0.   0.   0.01 0.   0.01 0.74 0.   0.02 0.   0.33\n",
            " 0.   0.   0.   0.   0.   0.   0.   0.   0.   0.03 0.   0.   2.81 0.22\n",
            " 0.   0.   1.91 0.12 0.   0.   0.   0.01 0.   0.   0.   0.   0.   0.\n",
            " 0.   0.   0.   1.97 0.   0.   0.   0.   0.   0.   0.   0.   0.   0.\n",
            " 0.   0.   0.   0.   0.   0.   0.   0.   0.   0.   0.18 0.   0.   0.04\n",
            " 2.49 0.19 0.01 0.   0.   1.55 0.   0.   0.   0.   0.01 0.   0.01 0.\n",
            " 0.   0.   0.   0.37 0.   0.08 0.   0.1  0.   0.   0.   0.   0.   0.\n",
            " 0.   0.14 0.   0.   0.   0.   0.   0.   0.08 0.   0.   0.   0.   0.\n",
            " 0.   0.   0.   0.   0.   0.   0.   0.15 0.   0.   0.24 0.04 0.   0.\n",
            " 0.   0.01 0.   0.   0.   0.   0.   1.55 0.14 0.01 0.   0.   0.17 0.\n",
            " 0.   0.   0.06 0.   0.   0.14 0.  ]\n"
          ],
          "name": "stdout"
        }
      ]
    },
    {
      "cell_type": "markdown",
      "metadata": {
        "id": "OiqteKgA8EKg"
      },
      "source": [
        "# **El modelo**\n",
        "## Construye el modelo\n",
        "\n",
        "Construyamos nuestro modelo. Aquí, utilizaremos un modelo secuencial con dos capas ocultas densamente conectadas y una capa de salida que devuelve un único valor continuo. Los pasos de construcción del modelo se envuelven en una función, build_model, ya que crearemos un segundo modelo, más adelante."
      ]
    },
    {
      "cell_type": "code",
      "metadata": {
        "id": "pKT9Oy7CdO6r"
      },
      "source": [
        "def build_model():\n",
        "  model = keras.Sequential([\n",
        "    layers.Dense(64, activation='relu', input_shape=[7]),\n",
        "    layers.Dense(64, activation='relu'),\n",
        "    layers.Dense(1)\n",
        "  ])\n",
        "\n",
        "  optimizer = tf.keras.optimizers.RMSprop(0.001)\n",
        "\n",
        "  model.compile(loss='mse',\n",
        "                optimizer=optimizer,\n",
        "                metrics=['mae', 'mse'])\n",
        "  return model"
      ],
      "execution_count": null,
      "outputs": []
    },
    {
      "cell_type": "code",
      "metadata": {
        "id": "Eamw9PHxe32i"
      },
      "source": [
        "model = build_model()"
      ],
      "execution_count": null,
      "outputs": []
    },
    {
      "cell_type": "code",
      "metadata": {
        "colab": {
          "base_uri": "https://localhost:8080/"
        },
        "id": "QGK_jptQfBB1",
        "outputId": "5b3f77be-6fb4-4e53-f7fd-c3d97e8bbcf7"
      },
      "source": [
        "model.fit(X,Y,epochs=8,verbose=2)"
      ],
      "execution_count": null,
      "outputs": [
        {
          "output_type": "stream",
          "text": [
            "Epoch 1/8\n",
            "5/5 - 1s - loss: 1012.8892 - mae: 20.8434 - mse: 1012.8892\n",
            "Epoch 2/8\n",
            "5/5 - 0s - loss: 2.1567 - mae: 1.2720 - mse: 2.1567\n",
            "Epoch 3/8\n",
            "5/5 - 0s - loss: 6.2786 - mae: 2.1402 - mse: 6.2786\n",
            "Epoch 4/8\n",
            "5/5 - 0s - loss: 325.3456 - mae: 16.2946 - mse: 325.3456\n",
            "Epoch 5/8\n",
            "5/5 - 0s - loss: 161.5040 - mae: 11.7489 - mse: 161.5040\n",
            "Epoch 6/8\n",
            "5/5 - 0s - loss: 49.5518 - mae: 6.8807 - mse: 49.5518\n",
            "Epoch 7/8\n",
            "5/5 - 0s - loss: 273.3518 - mae: 16.3550 - mse: 273.3518\n",
            "Epoch 8/8\n",
            "5/5 - 0s - loss: 135.8659 - mae: 11.4756 - mse: 135.8659\n"
          ],
          "name": "stdout"
        },
        {
          "output_type": "execute_result",
          "data": {
            "text/plain": [
              "<tensorflow.python.keras.callbacks.History at 0x7f7085b30790>"
            ]
          },
          "metadata": {
            "tags": []
          },
          "execution_count": 13
        }
      ]
    },
    {
      "cell_type": "code",
      "metadata": {
        "colab": {
          "base_uri": "https://localhost:8080/"
        },
        "id": "RLuPLaUafgoK",
        "collapsed": true,
        "outputId": "a067707f-d605-4d15-a99d-1b55b84aaacb"
      },
      "source": [
        "!pip install git+https://github.com/tensorflow/docs"
      ],
      "execution_count": null,
      "outputs": [
        {
          "output_type": "stream",
          "text": [
            "Collecting git+https://github.com/tensorflow/docs\n",
            "  Cloning https://github.com/tensorflow/docs to /tmp/pip-req-build-8h4yngn_\n",
            "  Running command git clone -q https://github.com/tensorflow/docs /tmp/pip-req-build-8h4yngn_\n",
            "Requirement already satisfied: astor in /usr/local/lib/python3.7/dist-packages (from tensorflow-docs===0.0.0c60db3aa06bcd8030c684949373997ef2f03cdf8-) (0.8.1)\n",
            "Requirement already satisfied: absl-py in /usr/local/lib/python3.7/dist-packages (from tensorflow-docs===0.0.0c60db3aa06bcd8030c684949373997ef2f03cdf8-) (0.12.0)\n",
            "Requirement already satisfied: protobuf>=3.14 in /usr/local/lib/python3.7/dist-packages (from tensorflow-docs===0.0.0c60db3aa06bcd8030c684949373997ef2f03cdf8-) (3.17.3)\n",
            "Requirement already satisfied: pyyaml in /usr/local/lib/python3.7/dist-packages (from tensorflow-docs===0.0.0c60db3aa06bcd8030c684949373997ef2f03cdf8-) (3.13)\n",
            "Requirement already satisfied: six>=1.9 in /usr/local/lib/python3.7/dist-packages (from protobuf>=3.14->tensorflow-docs===0.0.0c60db3aa06bcd8030c684949373997ef2f03cdf8-) (1.15.0)\n",
            "Building wheels for collected packages: tensorflow-docs\n",
            "  Building wheel for tensorflow-docs (setup.py) ... \u001b[?25l\u001b[?25hdone\n",
            "  Created wheel for tensorflow-docs: filename=tensorflow_docs-0.0.0c60db3aa06bcd8030c684949373997ef2f03cdf8_-py3-none-any.whl size=154243 sha256=fa29bdad58b7084500225cb0476e381b059d01786bce705f7e661d3692def568\n",
            "  Stored in directory: /tmp/pip-ephem-wheel-cache-ws3eu0oo/wheels/cc/c4/d8/5341e93b6376c5c929c49469fce21155eb69cef1a4da4ce32c\n",
            "\u001b[33m  WARNING: Built wheel for tensorflow-docs is invalid: Metadata 1.2 mandates PEP 440 version, but '0.0.0c60db3aa06bcd8030c684949373997ef2f03cdf8-' is not\u001b[0m\n",
            "Failed to build tensorflow-docs\n",
            "Installing collected packages: tensorflow-docs\n",
            "    Running setup.py install for tensorflow-docs ... \u001b[?25l\u001b[?25hdone\n",
            "\u001b[33m  DEPRECATION: tensorflow-docs was installed using the legacy 'setup.py install' method, because a wheel could not be built for it. A possible replacement is to fix the wheel build issue reported above. You can find discussion regarding this at https://github.com/pypa/pip/issues/8368.\u001b[0m\n",
            "Successfully installed tensorflow-docs-0.0.0c60db3aa06bcd8030c684949373997ef2f03cdf8-\n"
          ],
          "name": "stdout"
        }
      ]
    },
    {
      "cell_type": "code",
      "metadata": {
        "id": "IOchLkmPgJfI"
      },
      "source": [
        "import tensorflow_docs as tfdocs\n",
        "import tensorflow_docs.modeling "
      ],
      "execution_count": null,
      "outputs": []
    },
    {
      "cell_type": "code",
      "metadata": {
        "colab": {
          "base_uri": "https://localhost:8080/"
        },
        "id": "OBe_dZhSgoV9",
        "collapsed": true,
        "outputId": "e6730577-820d-4a72-cab1-53570093d8f7"
      },
      "source": [
        "EPOCHS = 8500\n",
        "\n",
        "history = model.fit(X,Y,\n",
        "  epochs=EPOCHS, verbose=0,\n",
        "  callbacks=[tfdocs.modeling.EpochDots()])"
      ],
      "execution_count": null,
      "outputs": [
        {
          "output_type": "stream",
          "text": [
            "\n",
            "Epoch: 0, loss:0.0907,  mae:0.1388,  mse:0.0907,  \n",
            "....................................................................................................\n",
            "Epoch: 100, loss:0.0448,  mae:0.0800,  mse:0.0448,  \n",
            "....................................................................................................\n",
            "Epoch: 200, loss:0.0555,  mae:0.0949,  mse:0.0555,  \n",
            "....................................................................................................\n",
            "Epoch: 300, loss:0.0951,  mae:0.1319,  mse:0.0951,  \n",
            "....................................................................................................\n",
            "Epoch: 400, loss:0.0463,  mae:0.0893,  mse:0.0463,  \n",
            "....................................................................................................\n",
            "Epoch: 500, loss:0.0473,  mae:0.0857,  mse:0.0473,  \n",
            "....................................................................................................\n",
            "Epoch: 600, loss:0.1135,  mae:0.1744,  mse:0.1135,  \n",
            "....................................................................................................\n",
            "Epoch: 700, loss:0.0673,  mae:0.1209,  mse:0.0673,  \n",
            "....................................................................................................\n",
            "Epoch: 800, loss:0.0623,  mae:0.1135,  mse:0.0623,  \n",
            "....................................................................................................\n",
            "Epoch: 900, loss:0.0409,  mae:0.0782,  mse:0.0409,  \n",
            "....................................................................................................\n",
            "Epoch: 1000, loss:0.0660,  mae:0.1220,  mse:0.0660,  \n",
            "....................................................................................................\n",
            "Epoch: 1100, loss:0.0626,  mae:0.1158,  mse:0.0626,  \n",
            "....................................................................................................\n",
            "Epoch: 1200, loss:0.0414,  mae:0.0783,  mse:0.0414,  \n",
            "....................................................................................................\n",
            "Epoch: 1300, loss:0.0425,  mae:0.0828,  mse:0.0425,  \n",
            "....................................................................................................\n",
            "Epoch: 1400, loss:0.0445,  mae:0.0764,  mse:0.0445,  \n",
            "....................................................................................................\n",
            "Epoch: 1500, loss:0.1043,  mae:0.1512,  mse:0.1043,  \n",
            "....................................................................................................\n",
            "Epoch: 1600, loss:0.0441,  mae:0.0739,  mse:0.0441,  \n",
            "....................................................................................................\n",
            "Epoch: 1700, loss:0.0433,  mae:0.0897,  mse:0.0433,  \n",
            "....................................................................................................\n",
            "Epoch: 1800, loss:0.0455,  mae:0.0791,  mse:0.0455,  \n",
            "....................................................................................................\n",
            "Epoch: 1900, loss:0.0387,  mae:0.0787,  mse:0.0387,  \n",
            "....................................................................................................\n",
            "Epoch: 2000, loss:0.0387,  mae:0.0698,  mse:0.0387,  \n",
            "....................................................................................................\n",
            "Epoch: 2100, loss:0.0392,  mae:0.0709,  mse:0.0392,  \n",
            "....................................................................................................\n",
            "Epoch: 2200, loss:0.0455,  mae:0.0937,  mse:0.0455,  \n",
            "....................................................................................................\n",
            "Epoch: 2300, loss:0.0653,  mae:0.1191,  mse:0.0653,  \n",
            "....................................................................................................\n",
            "Epoch: 2400, loss:0.0396,  mae:0.0787,  mse:0.0396,  \n",
            "....................................................................................................\n",
            "Epoch: 2500, loss:0.0526,  mae:0.1054,  mse:0.0526,  \n",
            "....................................................................................................\n",
            "Epoch: 2600, loss:0.0386,  mae:0.0714,  mse:0.0386,  \n",
            "....................................................................................................\n",
            "Epoch: 2700, loss:0.0379,  mae:0.0634,  mse:0.0379,  \n",
            "....................................................................................................\n",
            "Epoch: 2800, loss:0.0370,  mae:0.0670,  mse:0.0370,  \n",
            "....................................................................................................\n",
            "Epoch: 2900, loss:0.0376,  mae:0.0747,  mse:0.0376,  \n",
            "....................................................................................................\n",
            "Epoch: 3000, loss:0.0459,  mae:0.0805,  mse:0.0459,  \n",
            "....................................................................................................\n",
            "Epoch: 3100, loss:0.0537,  mae:0.1048,  mse:0.0537,  \n",
            "....................................................................................................\n",
            "Epoch: 3200, loss:0.0400,  mae:0.0706,  mse:0.0400,  \n",
            "....................................................................................................\n",
            "Epoch: 3300, loss:0.0392,  mae:0.0795,  mse:0.0392,  \n",
            "....................................................................................................\n",
            "Epoch: 3400, loss:0.0361,  mae:0.0680,  mse:0.0361,  \n",
            "....................................................................................................\n",
            "Epoch: 3500, loss:0.0580,  mae:0.1176,  mse:0.0580,  \n",
            "....................................................................................................\n",
            "Epoch: 3600, loss:0.0385,  mae:0.0740,  mse:0.0385,  \n",
            "....................................................................................................\n",
            "Epoch: 3700, loss:0.0394,  mae:0.0836,  mse:0.0394,  \n",
            "....................................................................................................\n",
            "Epoch: 3800, loss:0.0658,  mae:0.1143,  mse:0.0658,  \n",
            "....................................................................................................\n",
            "Epoch: 3900, loss:0.0356,  mae:0.0660,  mse:0.0356,  \n",
            "....................................................................................................\n",
            "Epoch: 4000, loss:0.0377,  mae:0.0731,  mse:0.0377,  \n",
            "....................................................................................................\n",
            "Epoch: 4100, loss:0.0859,  mae:0.1413,  mse:0.0859,  \n",
            "....................................................................................................\n",
            "Epoch: 4200, loss:0.0457,  mae:0.0934,  mse:0.0457,  \n",
            "....................................................................................................\n",
            "Epoch: 4300, loss:0.0589,  mae:0.1113,  mse:0.0589,  \n",
            "....................................................................................................\n",
            "Epoch: 4400, loss:0.1516,  mae:0.1735,  mse:0.1516,  \n",
            "....................................................................................................\n",
            "Epoch: 4500, loss:0.0375,  mae:0.0697,  mse:0.0375,  \n",
            "....................................................................................................\n",
            "Epoch: 4600, loss:0.0426,  mae:0.0664,  mse:0.0426,  \n",
            "....................................................................................................\n",
            "Epoch: 4700, loss:0.0362,  mae:0.0613,  mse:0.0362,  \n",
            "....................................................................................................\n",
            "Epoch: 4800, loss:0.0506,  mae:0.1018,  mse:0.0506,  \n",
            "....................................................................................................\n",
            "Epoch: 4900, loss:0.0499,  mae:0.0976,  mse:0.0499,  \n",
            "....................................................................................................\n",
            "Epoch: 5000, loss:0.1228,  mae:0.1549,  mse:0.1228,  \n",
            "....................................................................................................\n",
            "Epoch: 5100, loss:0.0434,  mae:0.0922,  mse:0.0434,  \n",
            "....................................................................................................\n",
            "Epoch: 5200, loss:0.0359,  mae:0.0655,  mse:0.0359,  \n",
            "....................................................................................................\n",
            "Epoch: 5300, loss:0.0358,  mae:0.0672,  mse:0.0358,  \n",
            "....................................................................................................\n",
            "Epoch: 5400, loss:0.0468,  mae:0.0989,  mse:0.0468,  \n",
            "....................................................................................................\n",
            "Epoch: 5500, loss:0.0404,  mae:0.0804,  mse:0.0404,  \n",
            "....................................................................................................\n",
            "Epoch: 5600, loss:0.0422,  mae:0.0769,  mse:0.0422,  \n",
            "....................................................................................................\n",
            "Epoch: 5700, loss:0.0430,  mae:0.0876,  mse:0.0430,  \n",
            "....................................................................................................\n",
            "Epoch: 5800, loss:0.0656,  mae:0.0951,  mse:0.0656,  \n",
            "....................................................................................................\n",
            "Epoch: 5900, loss:0.0377,  mae:0.0746,  mse:0.0377,  \n",
            "....................................................................................................\n",
            "Epoch: 6000, loss:0.0457,  mae:0.0919,  mse:0.0457,  \n",
            "....................................................................................................\n",
            "Epoch: 6100, loss:0.0376,  mae:0.0751,  mse:0.0376,  \n",
            "....................................................................................................\n",
            "Epoch: 6200, loss:0.0352,  mae:0.0654,  mse:0.0352,  \n",
            "....................................................................................................\n",
            "Epoch: 6300, loss:0.0617,  mae:0.1338,  mse:0.0617,  \n",
            "....................................................................................................\n",
            "Epoch: 6400, loss:0.0425,  mae:0.0947,  mse:0.0425,  \n",
            "....................................................................................................\n",
            "Epoch: 6500, loss:0.0398,  mae:0.0761,  mse:0.0398,  \n",
            "....................................................................................................\n",
            "Epoch: 6600, loss:0.0386,  mae:0.0772,  mse:0.0386,  \n",
            "....................................................................................................\n",
            "Epoch: 6700, loss:0.0367,  mae:0.0669,  mse:0.0367,  \n",
            "....................................................................................................\n",
            "Epoch: 6800, loss:0.0735,  mae:0.1160,  mse:0.0735,  \n",
            "....................................................................................................\n",
            "Epoch: 6900, loss:0.0495,  mae:0.0951,  mse:0.0495,  \n",
            "....................................................................................................\n",
            "Epoch: 7000, loss:0.0455,  mae:0.0936,  mse:0.0455,  \n",
            "....................................................................................................\n",
            "Epoch: 7100, loss:0.0371,  mae:0.0687,  mse:0.0371,  \n",
            "....................................................................................................\n",
            "Epoch: 7200, loss:0.0376,  mae:0.0697,  mse:0.0376,  \n",
            "....................................................................................................\n",
            "Epoch: 7300, loss:0.0404,  mae:0.0878,  mse:0.0404,  \n",
            "....................................................................................................\n",
            "Epoch: 7400, loss:0.0360,  mae:0.0723,  mse:0.0360,  \n",
            "....................................................................................................\n",
            "Epoch: 7500, loss:0.0385,  mae:0.0808,  mse:0.0385,  \n",
            "....................................................................................................\n",
            "Epoch: 7600, loss:0.0547,  mae:0.1169,  mse:0.0547,  \n",
            "....................................................................................................\n",
            "Epoch: 7700, loss:0.0358,  mae:0.0638,  mse:0.0358,  \n",
            "....................................................................................................\n",
            "Epoch: 7800, loss:0.0738,  mae:0.1346,  mse:0.0738,  \n",
            "....................................................................................................\n",
            "Epoch: 7900, loss:0.0354,  mae:0.0652,  mse:0.0354,  \n",
            "....................................................................................................\n",
            "Epoch: 8000, loss:0.0360,  mae:0.0736,  mse:0.0360,  \n",
            "....................................................................................................\n",
            "Epoch: 8100, loss:0.1011,  mae:0.1460,  mse:0.1011,  \n",
            "....................................................................................................\n",
            "Epoch: 8200, loss:0.0378,  mae:0.0807,  mse:0.0378,  \n",
            "....................................................................................................\n",
            "Epoch: 8300, loss:0.0388,  mae:0.0825,  mse:0.0388,  \n",
            "....................................................................................................\n",
            "Epoch: 8400, loss:0.0570,  mae:0.1031,  mse:0.0570,  \n",
            "...................................................................................................."
          ],
          "name": "stdout"
        }
      ]
    },
    {
      "cell_type": "markdown",
      "metadata": {
        "id": "4M49GhA-hoEW"
      },
      "source": [
        "## **Gráfica Valores Reales V/s Predicción**"
      ]
    },
    {
      "cell_type": "code",
      "metadata": {
        "colab": {
          "base_uri": "https://localhost:8080/",
          "height": 296
        },
        "id": "oux5HeiZh0A0",
        "outputId": "ae1bc7ec-051a-419b-d7e7-965709915ca2"
      },
      "source": [
        "import matplotlib.pyplot as plt\n",
        "test_predictions = model.predict(X).flatten()\n",
        "a = plt.axes(aspect = 'equal')\n",
        "plt.scatter(Y, test_predictions)\n",
        "plt.xlabel('X')\n",
        "plt.xlabel('Y')\n",
        "_=plt.plot(Y,Y,color = 'orange')\n",
        "r2_score(Y, test_predictions)\n"
      ],
      "execution_count": null,
      "outputs": [
        {
          "output_type": "execute_result",
          "data": {
            "text/plain": [
              "0.6965142611447603"
            ]
          },
          "metadata": {
            "tags": []
          },
          "execution_count": 19
        },
        {
          "output_type": "display_data",
          "data": {
            "image/png": "[encoded data removed]",
            "text/plain": [
              "<Figure size 432x288 with 1 Axes>"
            ]
          },
          "metadata": {
            "tags": [],
            "needs_background": "light"
          }
        }
      ]
    },
    {
      "cell_type": "code",
      "metadata": {
        "id": "3XlKeUvjbhvS",
        "colab": {
          "base_uri": "https://localhost:8080/"
        },
        "collapsed": true,
        "outputId": "963dd680-510a-427d-95e9-a75b1eeba0b2"
      },
      "source": [
        "prediction = model.predict(X)\n",
        "\n",
        "print(prediction)\n",
        "\n",
        "np.savetxt(\"predict70.csv\", prediction, delimiter=\",\")"
      ],
      "execution_count": null,
      "outputs": [
        {
          "output_type": "stream",
          "text": [
            "[[-0.07219076]\n",
            " [-0.06876153]\n",
            " [-0.06255001]\n",
            " [ 0.4710028 ]\n",
            " [-0.0389573 ]\n",
            " [-0.01856464]\n",
            " [ 0.05057067]\n",
            " [-0.0655219 ]\n",
            " [-0.06234401]\n",
            " [ 0.71977955]\n",
            " [-0.06832308]\n",
            " [-0.03655601]\n",
            " [-0.01950145]\n",
            " [ 0.42816332]\n",
            " [ 0.00335544]\n",
            " [-0.01445293]\n",
            " [-0.02347714]\n",
            " [-0.05574119]\n",
            " [-0.04930151]\n",
            " [-0.05928153]\n",
            " [ 0.00898105]\n",
            " [-0.06861413]\n",
            " [-0.04670215]\n",
            " [ 0.49974087]\n",
            " [-0.07390517]\n",
            " [-0.05921215]\n",
            " [ 3.1773589 ]\n",
            " [-0.05605406]\n",
            " [-0.03659409]\n",
            " [-0.02628595]\n",
            " [ 2.194361  ]\n",
            " [ 0.44388157]\n",
            " [-0.06174511]\n",
            " [-0.02185041]\n",
            " [-0.00877392]\n",
            " [-0.05635732]\n",
            " [-0.01647013]\n",
            " [ 0.04685175]\n",
            " [-0.0424096 ]\n",
            " [-0.05567306]\n",
            " [-0.06254739]\n",
            " [-0.10987324]\n",
            " [-0.17153639]\n",
            " [-0.03966486]\n",
            " [-0.05700547]\n",
            " [ 1.4659896 ]\n",
            " [ 0.14358634]\n",
            " [-0.02592409]\n",
            " [-0.02112526]\n",
            " [ 0.20871916]\n",
            " [-0.06018895]\n",
            " [-0.05804533]\n",
            " [ 0.2884892 ]\n",
            " [-0.03787452]\n",
            " [-0.0698781 ]\n",
            " [ 0.11792478]\n",
            " [-0.01929754]\n",
            " [-0.03651625]\n",
            " [ 0.0105055 ]\n",
            " [ 0.15037185]\n",
            " [-0.06240588]\n",
            " [-0.02348226]\n",
            " [-0.0631848 ]\n",
            " [-0.05792564]\n",
            " [-0.07269192]\n",
            " [-0.0791778 ]\n",
            " [-0.04664439]\n",
            " [-0.0292325 ]\n",
            " [ 0.65225345]\n",
            " [-0.00589103]\n",
            " [ 0.52754503]\n",
            " [ 0.3894605 ]\n",
            " [ 0.3483751 ]\n",
            " [-0.08101267]\n",
            " [-0.00705618]\n",
            " [ 0.8209587 ]\n",
            " [-0.06200737]\n",
            " [-0.06136763]\n",
            " [ 0.13004357]\n",
            " [ 0.19888842]\n",
            " [-0.06823593]\n",
            " [-0.03991753]\n",
            " [ 0.55511177]\n",
            " [-0.05000526]\n",
            " [-0.04558098]\n",
            " [-0.07266635]\n",
            " [-0.01659179]\n",
            " [-0.0367741 ]\n",
            " [-0.10882133]\n",
            " [ 0.10201919]\n",
            " [-0.05837649]\n",
            " [-0.00878471]\n",
            " [ 0.2753581 ]\n",
            " [-0.06632704]\n",
            " [-0.04101723]\n",
            " [-0.04947942]\n",
            " [ 0.02290386]\n",
            " [-0.04858625]\n",
            " [ 0.09113294]\n",
            " [ 0.10347655]\n",
            " [-0.046646  ]\n",
            " [-0.07465744]\n",
            " [ 0.03903919]\n",
            " [-0.08132261]\n",
            " [ 0.45536095]\n",
            " [ 0.01176786]\n",
            " [ 0.05139101]\n",
            " [-0.06942636]\n",
            " [-0.06882578]\n",
            " [ 0.0081557 ]\n",
            " [ 0.08284721]\n",
            " [ 0.29380375]\n",
            " [-0.05978841]\n",
            " [-0.05740207]\n",
            " [-0.04513472]\n",
            " [ 0.0078761 ]\n",
            " [ 0.06589955]\n",
            " [-0.07757825]\n",
            " [-0.0456062 ]\n",
            " [ 0.01248842]\n",
            " [-0.05588752]\n",
            " [ 0.04861823]\n",
            " [-0.04085654]\n",
            " [ 0.03456026]\n",
            " [-0.10764951]\n",
            " [ 0.06661612]\n",
            " [ 0.04252484]\n",
            " [-0.0597297 ]\n",
            " [-0.06175894]\n",
            " [-0.07759231]\n",
            " [-0.07110763]\n",
            " [-0.05371451]\n",
            " [-0.02894038]\n",
            " [ 1.7852561 ]\n",
            " [ 0.28725582]\n",
            " [-0.05586195]\n",
            " [-0.04293174]\n",
            " [-0.03539932]\n",
            " [ 0.39869335]\n",
            " [ 0.02298599]\n",
            " [-0.02893919]\n",
            " [-0.02622229]\n",
            " [-0.01589006]\n",
            " [-0.06323266]\n",
            " [-0.00863904]\n",
            " [-0.07326132]\n",
            " [ 0.04439855]]\n"
          ],
          "name": "stdout"
        }
      ]
    },
    {
      "cell_type": "code",
      "metadata": {
        "id": "0WpUJlipbwQk"
      },
      "source": [
        "df2 = pd.read_csv('https://raw.githubusercontent.com/Varkenes/Tensorflow-Keras-Niebla/main/30%20testeo%20niebla.csv')"
      ],
      "execution_count": null,
      "outputs": []
    },
    {
      "cell_type": "code",
      "metadata": {
        "id": "YQCwHWOsdsTF"
      },
      "source": [
        "dataset2 = df2.values"
      ],
      "execution_count": null,
      "outputs": []
    },
    {
      "cell_type": "code",
      "metadata": {
        "id": "JJWcFTAqccrE"
      },
      "source": [
        "Xtest=dataset2[0:,1:8]\n",
        "Ytest=dataset2[:,8]"
      ],
      "execution_count": null,
      "outputs": []
    },
    {
      "cell_type": "code",
      "metadata": {
        "colab": {
          "base_uri": "https://localhost:8080/"
        },
        "id": "suAp9OoWWaNW",
        "outputId": "1bb2a099-9786-4b22-aa45-4003dc7585f1"
      },
      "source": [
        "from tensorflow.keras.models import load_model\n",
        "from sklearn.metrics import mean_squared_error\n",
        "model.save('my_model')\n",
        "\n",
        "# load the pb model\n",
        "model_tf = load_model('my_model')\n",
        "\n",
        "# predict\n",
        "pred_tf = model_tf.predict(Xtest)\n",
        "\n",
        "score_tf = np.sqrt(mean_squared_error(pred_tf,Ytest))\n",
        "print(\"After loading score (RMSE): {}\".format(score_tf))"
      ],
      "execution_count": null,
      "outputs": [
        {
          "output_type": "stream",
          "text": [
            "INFO:tensorflow:Assets written to: my_model/assets\n",
            "After loading score (RMSE): 0.5195979029514433\n"
          ],
          "name": "stdout"
        }
      ]
    },
    {
      "cell_type": "code",
      "metadata": {
        "id": "dSh3XQiUnjcD",
        "colab": {
          "base_uri": "https://localhost:8080/",
          "height": 296
        },
        "outputId": "f10ac720-1228-41d8-c16f-f6122ac87311"
      },
      "source": [
        "\n",
        "test_predictions2 = model.predict(Xtest).flatten()\n",
        "a = plt.axes(aspect = 'equal')\n",
        "plt.scatter(Ytest, test_predictions2)\n",
        "plt.xlabel('Xtest')\n",
        "plt.xlabel('Ytest')\n",
        "_=plt.plot(Ytest,Ytest,color = 'orange')\n",
        "r2_score(Ytest, test_predictions2)"
      ],
      "execution_count": null,
      "outputs": [
        {
          "output_type": "execute_result",
          "data": {
            "text/plain": [
              "-0.3824131359709615"
            ]
          },
          "metadata": {
            "tags": []
          },
          "execution_count": 28
        },
        {
          "output_type": "display_data",
          "data": {
            "image/png": "[encoded data removed]",
            "text/plain": [
              "<Figure size 432x288 with 1 Axes>"
            ]
          },
          "metadata": {
            "tags": [],
            "needs_background": "light"
          }
        }
      ]
    },
    {
      "cell_type": "code",
      "metadata": {
        "colab": {
          "base_uri": "https://localhost:8080/"
        },
        "id": "n6s_FaZXeCED",
        "outputId": "3e092852-b1c1-4f20-c580-77a6d5d92f59"
      },
      "source": [
        "predict= model.predict(Xtest)\n",
        "\n",
        "print(predict)\n",
        "\n",
        "np.savetxt(\"predict30.csv\", predict, delimiter=\",\")"
      ],
      "execution_count": null,
      "outputs": [
        {
          "output_type": "stream",
          "text": [
            "[[-0.04439539]\n",
            " [ 0.05087253]\n",
            " [-0.05562991]\n",
            " [ 0.04616374]\n",
            " [-0.07129341]\n",
            " [-0.03120238]\n",
            " [-0.04512161]\n",
            " [ 0.06160197]\n",
            " [-0.06642008]\n",
            " [-0.12647957]\n",
            " [-0.3709606 ]\n",
            " [-0.06505352]\n",
            " [ 0.05802789]\n",
            " [-1.9984043 ]\n",
            " [ 0.11307782]\n",
            " [ 0.26414672]\n",
            " [-0.06001401]\n",
            " [-0.01970422]\n",
            " [-0.12569815]\n",
            " [ 0.00567347]\n",
            " [-0.03979897]\n",
            " [-0.06154424]\n",
            " [ 0.56488997]\n",
            " [-0.07239789]\n",
            " [ 0.1817601 ]\n",
            " [ 0.12396559]\n",
            " [-0.03605539]\n",
            " [-0.01107258]\n",
            " [-0.04681796]\n",
            " [-0.00384438]\n",
            " [-0.06988573]\n",
            " [ 0.1714009 ]\n",
            " [ 0.06183565]\n",
            " [ 0.06486779]\n",
            " [ 0.24410897]\n",
            " [-0.06407374]\n",
            " [ 0.01798135]\n",
            " [-0.06599289]\n",
            " [-0.05001301]\n",
            " [-0.08078879]\n",
            " [-0.04975218]\n",
            " [-0.01557279]\n",
            " [ 0.5075472 ]\n",
            " [-0.06006306]\n",
            " [-0.11551422]\n",
            " [-0.06182724]\n",
            " [-0.07268804]\n",
            " [-0.05848807]\n",
            " [-0.0668065 ]\n",
            " [-0.00909042]\n",
            " [ 0.03470737]\n",
            " [-0.04199189]\n",
            " [ 0.22952777]\n",
            " [-0.15911049]\n",
            " [ 1.0922346 ]\n",
            " [-0.05173463]\n",
            " [ 0.28193074]\n",
            " [-0.0474388 ]\n",
            " [-0.0445115 ]\n",
            " [-0.01795858]\n",
            " [-0.05608028]\n",
            " [-0.06629211]\n",
            " [-0.1009143 ]\n",
            " [ 0.03587735]\n",
            " [ 0.04318938]]\n"
          ],
          "name": "stdout"
        }
      ]
    }
  ]
}