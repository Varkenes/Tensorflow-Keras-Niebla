{
  "nbformat": 4,
  "nbformat_minor": 0,
  "metadata": {
    "colab": {
      "name": " Código 100% Train.ipynb",
      "provenance": [],
      "collapsed_sections": [],
      "authorship_tag": "ABX9TyMAIQDZUNzITN8MTe1WB755",
      "include_colab_link": true
    },
    "kernelspec": {
      "name": "python3",
      "display_name": "Python 3"
    },
    "language_info": {
      "name": "python"
    }
  },
  "cells": [
    {
      "cell_type": "markdown",
      "metadata": {
        "id": "view-in-github",
        "colab_type": "text"
      },
      "source": [
        "<a href=\"https://colab.research.google.com/github/Varkenes/Tensorflow-Keras-Niebla/blob/main/C%C3%B3digo_100_Train.ipynb\" target=\"_parent\"><img src=\"https://colab.research.google.com/assets/colab-badge.svg\" alt=\"Open In Colab\"/></a>"
      ]
    },
    {
      "cell_type": "code",
      "metadata": {
        "id": "oRRsWCm6oTn2"
      },
      "source": [
        "import pandas as pd\n",
        "import matplotlib as mpl\n",
        "import matplotlib.pyplot as plt\n",
        "import numpy as np\n",
        "import tensorflow as tf\n",
        "from tensorflow import keras\n",
        "from tensorflow.keras import layers\n",
        "from sklearn.metrics import mean_squared_error, r2_score\n",
        "\n",
        "\n",
        "from sklearn.model_selection import train_test_split\n",
        "from keras.preprocessing.sequence import TimeseriesGenerator\n",
        "from sklearn.preprocessing import MinMaxScaler, StandardScaler\n",
        "from sklearn.model_selection import train_test_split\n"
      ],
      "execution_count": null,
      "outputs": []
    },
    {
      "cell_type": "markdown",
      "metadata": {
        "id": "ZRVr8p-D8QaA"
      },
      "source": [
        "# **Lectura de datos:**"
      ]
    },
    {
      "cell_type": "code",
      "metadata": {
        "id": "O6SUz4gcKjb0"
      },
      "source": [
        "df = pd.read_csv('https://raw.githubusercontent.com/Varkenes/Tensorflow-Keras-Niebla/main/BBDD_Niebla-Paihuen_100%25.csv')"
      ],
      "execution_count": null,
      "outputs": []
    },
    {
      "cell_type": "code",
      "metadata": {
        "colab": {
          "base_uri": "https://localhost:8080/"
        },
        "id": "RYxxsahzsiN6",
        "collapsed": true,
        "outputId": "42a23e4f-83d3-43ea-9397-33b55e9ab957"
      },
      "source": [
        "print(df)"
      ],
      "execution_count": null,
      "outputs": [
        {
          "output_type": "stream",
          "text": [
            "       N     T (°C)     HR (%)  ...        Vy  Nubosidad(%)  Flujo (L/día)\n",
            "0      1  15.041667  69.770833  ... -0.184534             5           0.00\n",
            "1      2  16.743750  59.864583  ... -0.180783             5           0.00\n",
            "2      3  17.709375  54.604167  ...  0.172621             5           0.00\n",
            "3      4  15.230208  67.843750  ...  0.191184             8           0.00\n",
            "4      5  18.077083  58.989583  ... -0.080333             5           0.00\n",
            "..   ...        ...        ...  ...       ...           ...            ...\n",
            "207  208  14.383333  75.562500  ...  0.501016             6           0.01\n",
            "208  209  13.112500  83.854167  ...  0.294262            25           0.00\n",
            "209  210  16.731111  66.711111  ...  0.576676            65           0.00\n",
            "210  211  12.839130  80.956522  ...  0.004677            39           0.37\n",
            "211  212  10.527083  78.250000  ...  0.459126             5           0.01\n",
            "\n",
            "[212 rows x 9 columns]\n"
          ],
          "name": "stdout"
        }
      ]
    },
    {
      "cell_type": "code",
      "metadata": {
        "id": "sbQmgp-7WaF_"
      },
      "source": [
        "dataset = df.values"
      ],
      "execution_count": null,
      "outputs": []
    },
    {
      "cell_type": "code",
      "metadata": {
        "colab": {
          "base_uri": "https://localhost:8080/"
        },
        "collapsed": true,
        "id": "ylucl4lcY5_e",
        "outputId": "5dab49e1-d00e-4f3e-9c6b-63838bdf98a3"
      },
      "source": [
        "print(dataset)"
      ],
      "execution_count": null,
      "outputs": [
        {
          "output_type": "stream",
          "text": [
            "[[ 1.00000000e+00  1.50416667e+01  6.97708333e+01 ... -1.84534479e-01\n",
            "   5.00000000e+00  0.00000000e+00]\n",
            " [ 2.00000000e+00  1.67437500e+01  5.98645833e+01 ... -1.80783401e-01\n",
            "   5.00000000e+00  0.00000000e+00]\n",
            " [ 3.00000000e+00  1.77093750e+01  5.46041667e+01 ...  1.72621211e-01\n",
            "   5.00000000e+00  0.00000000e+00]\n",
            " ...\n",
            " [ 2.10000000e+02  1.67311111e+01  6.67111111e+01 ...  5.76675865e-01\n",
            "   6.50000000e+01  0.00000000e+00]\n",
            " [ 2.11000000e+02  1.28391304e+01  8.09565217e+01 ...  4.67674200e-03\n",
            "   3.90000000e+01  3.70000000e-01]\n",
            " [ 2.12000000e+02  1.05270833e+01  7.82500000e+01 ...  4.59126421e-01\n",
            "   5.00000000e+00  1.00000000e-02]]\n"
          ],
          "name": "stdout"
        }
      ]
    },
    {
      "cell_type": "markdown",
      "metadata": {
        "id": "sVoEkQZl8cfH"
      },
      "source": [
        "# **Definiendo Variables**\n",
        "Acá se mejoró esta línea de código separando los las variables input y output de prueba (x_train e y_train) y las variables input y output (x_test e y_test), 70 y 30 % respectivamete de manera aleatoria."
      ]
    },
    {
      "cell_type": "code",
      "metadata": {
        "id": "JqnNT1k2aVtn"
      },
      "source": [
        "X=dataset[0:,1:8]\n",
        "Y=dataset[:,8]"
      ],
      "execution_count": null,
      "outputs": []
    },
    {
      "cell_type": "code",
      "metadata": {
        "colab": {
          "base_uri": "https://localhost:8080/"
        },
        "id": "Zyv-xMo79eNJ",
        "collapsed": true,
        "outputId": "dab6f23f-284d-4020-fcc4-9b350a5a5ce1"
      },
      "source": [
        "print(X)\n",
        "entrenamientodedatos = X\n",
        "np.savetxt(\"entrenamientodedatos90_10.csv\", entrenamientodedatos, delimiter=\",\")"
      ],
      "execution_count": null,
      "outputs": [
        {
          "output_type": "stream",
          "text": [
            "[[ 1.50416667e+01  6.97708333e+01  1.01723125e+03 ... -7.14372345e-01\n",
            "  -1.84534479e-01  5.00000000e+00]\n",
            " [ 1.67437500e+01  5.98645833e+01  1.01619062e+03 ... -6.64064322e-01\n",
            "  -1.80783401e-01  5.00000000e+00]\n",
            " [ 1.77093750e+01  5.46041667e+01  1.01132292e+03 ... -6.14967441e-01\n",
            "   1.72621211e-01  5.00000000e+00]\n",
            " ...\n",
            " [ 1.67311111e+01  6.67111111e+01  1.00583542e+03 ... -6.65922301e-01\n",
            "   5.76675865e-01  6.50000000e+01]\n",
            " [ 1.28391304e+01  8.09565217e+01  1.00748958e+03 ... -1.31528799e+00\n",
            "   4.67674200e-03  3.90000000e+01]\n",
            " [ 1.05270833e+01  7.82500000e+01  1.00980208e+03 ... -7.51812167e-01\n",
            "   4.59126421e-01  5.00000000e+00]]\n"
          ],
          "name": "stdout"
        }
      ]
    },
    {
      "cell_type": "code",
      "metadata": {
        "colab": {
          "base_uri": "https://localhost:8080/"
        },
        "id": "Axa13fZW7z2A",
        "collapsed": true,
        "outputId": "64e91312-3cac-4c70-f652-e2b4393196b1"
      },
      "source": [
        "print(Y)\n",
        "testeodedatos = Y\n",
        "np.savetxt(\"testdedatos90_10.csv\", testeodedatos, delimiter=\",\")"
      ],
      "execution_count": null,
      "outputs": [
        {
          "output_type": "stream",
          "text": [
            "[0.   0.   0.   0.   0.   0.   0.   0.   0.   0.   0.   0.   0.   0.\n",
            " 0.   0.   0.   0.   0.   0.   0.   0.   0.   0.   0.   0.   0.   0.\n",
            " 0.   0.14 0.19 0.   0.   0.   0.   0.   0.   0.   0.   0.   0.1  0.\n",
            " 0.   0.   0.   0.   0.   0.04 0.   0.   0.   0.   0.   0.04 1.97 0.02\n",
            " 0.   2.49 0.   0.   0.   0.   0.   0.   0.01 0.   0.   0.   0.06 0.\n",
            " 0.   0.   0.   0.12 0.   0.   2.81 1.55 0.   0.   0.   0.   0.   0.\n",
            " 0.   0.   0.74 0.1  0.   0.   0.   0.   0.33 0.   0.69 0.   0.   0.\n",
            " 0.   0.   0.   0.   0.02 0.   0.   1.55 0.   0.   0.   0.   0.   0.\n",
            " 0.01 0.02 0.   0.14 0.   0.   0.17 0.03 0.   0.   0.01 0.   0.   0.\n",
            " 0.   0.   0.   0.   0.   2.17 2.5  0.   0.   0.   0.   0.   0.   0.18\n",
            " 0.   0.01 0.   0.   0.   0.   0.   0.   0.   0.   0.24 0.   0.01 0.\n",
            " 0.   0.02 0.01 0.   0.01 0.01 0.   0.   0.15 0.   0.22 0.   0.   0.\n",
            " 0.   0.   0.14 0.08 0.   0.   0.   0.   0.   0.01 0.   0.   0.   0.\n",
            " 1.91 0.   0.01 0.   0.   1.42 0.08 0.06 0.   0.   0.   0.   0.   0.\n",
            " 0.   0.01 0.03 0.   0.   0.   0.   0.01 0.   0.   0.   0.01 0.   0.\n",
            " 0.37 0.01]\n"
          ],
          "name": "stdout"
        }
      ]
    },
    {
      "cell_type": "markdown",
      "metadata": {
        "id": "OiqteKgA8EKg"
      },
      "source": [
        "# **El modelo**\n",
        "## Construye el modelo\n",
        "\n",
        "Construyamos nuestro modelo. Aquí, utilizaremos un modelo secuencial con dos capas ocultas densamente conectadas y una capa de salida que devuelve un único valor continuo. Los pasos de construcción del modelo se envuelven en una función, build_model, ya que crearemos un segundo modelo, más adelante."
      ]
    },
    {
      "cell_type": "code",
      "metadata": {
        "id": "pKT9Oy7CdO6r"
      },
      "source": [
        "def build_model():\n",
        "  model = keras.Sequential([\n",
        "    layers.Dense(64, activation='relu', input_shape=[7]),\n",
        "    layers.Dense(64, activation='relu'),\n",
        "    layers.Dense(1)\n",
        "  ])\n",
        "\n",
        "  optimizer = tf.keras.optimizers.RMSprop(0.001)\n",
        "\n",
        "  model.compile(loss='mse',\n",
        "                optimizer=optimizer,\n",
        "                metrics=['mae', 'mse'])\n",
        "  return model"
      ],
      "execution_count": null,
      "outputs": []
    },
    {
      "cell_type": "code",
      "metadata": {
        "id": "Eamw9PHxe32i"
      },
      "source": [
        "model = build_model()"
      ],
      "execution_count": null,
      "outputs": []
    },
    {
      "cell_type": "code",
      "metadata": {
        "colab": {
          "base_uri": "https://localhost:8080/"
        },
        "id": "QGK_jptQfBB1",
        "outputId": "304972c5-e1f5-40ed-e734-d058301c9d47"
      },
      "source": [
        "model.fit(X,Y,epochs=8,verbose=2)"
      ],
      "execution_count": null,
      "outputs": [
        {
          "output_type": "stream",
          "text": [
            "Epoch 1/8\n",
            "7/7 - 0s - loss: 0.0712 - mae: 0.1263 - mse: 0.0712\n",
            "Epoch 2/8\n",
            "7/7 - 0s - loss: 0.0833 - mae: 0.1395 - mse: 0.0833\n",
            "Epoch 3/8\n",
            "7/7 - 0s - loss: 0.0737 - mae: 0.1238 - mse: 0.0737\n",
            "Epoch 4/8\n",
            "7/7 - 0s - loss: 0.0724 - mae: 0.1323 - mse: 0.0724\n",
            "Epoch 5/8\n",
            "7/7 - 0s - loss: 0.0710 - mae: 0.1239 - mse: 0.0710\n",
            "Epoch 6/8\n",
            "7/7 - 0s - loss: 0.0804 - mae: 0.1387 - mse: 0.0804\n",
            "Epoch 7/8\n",
            "7/7 - 0s - loss: 0.0731 - mae: 0.1220 - mse: 0.0731\n",
            "Epoch 8/8\n",
            "7/7 - 0s - loss: 0.0755 - mae: 0.1216 - mse: 0.0755\n"
          ],
          "name": "stdout"
        },
        {
          "output_type": "execute_result",
          "data": {
            "text/plain": [
              "<tensorflow.python.keras.callbacks.History at 0x7f2404b55050>"
            ]
          },
          "metadata": {
            "tags": []
          },
          "execution_count": 49
        }
      ]
    },
    {
      "cell_type": "code",
      "metadata": {
        "colab": {
          "base_uri": "https://localhost:8080/"
        },
        "id": "RLuPLaUafgoK",
        "collapsed": true,
        "outputId": "f57a3946-c195-4aef-8e2a-8f26c937b239"
      },
      "source": [
        "!pip install git+https://github.com/tensorflow/docs"
      ],
      "execution_count": null,
      "outputs": [
        {
          "output_type": "stream",
          "text": [
            "Collecting git+https://github.com/tensorflow/docs\n",
            "  Cloning https://github.com/tensorflow/docs to /tmp/pip-req-build-jzarijwl\n",
            "  Running command git clone -q https://github.com/tensorflow/docs /tmp/pip-req-build-jzarijwl\n",
            "Requirement already satisfied: astor in /usr/local/lib/python3.7/dist-packages (from tensorflow-docs===0.0.0c60db3aa06bcd8030c684949373997ef2f03cdf8-) (0.8.1)\n",
            "Requirement already satisfied: absl-py in /usr/local/lib/python3.7/dist-packages (from tensorflow-docs===0.0.0c60db3aa06bcd8030c684949373997ef2f03cdf8-) (0.12.0)\n",
            "Requirement already satisfied: protobuf>=3.14 in /usr/local/lib/python3.7/dist-packages (from tensorflow-docs===0.0.0c60db3aa06bcd8030c684949373997ef2f03cdf8-) (3.17.3)\n",
            "Requirement already satisfied: pyyaml in /usr/local/lib/python3.7/dist-packages (from tensorflow-docs===0.0.0c60db3aa06bcd8030c684949373997ef2f03cdf8-) (3.13)\n",
            "Requirement already satisfied: six>=1.9 in /usr/local/lib/python3.7/dist-packages (from protobuf>=3.14->tensorflow-docs===0.0.0c60db3aa06bcd8030c684949373997ef2f03cdf8-) (1.15.0)\n",
            "Building wheels for collected packages: tensorflow-docs\n",
            "  Building wheel for tensorflow-docs (setup.py) ... \u001b[?25l\u001b[?25hdone\n",
            "  Created wheel for tensorflow-docs: filename=tensorflow_docs-0.0.0c60db3aa06bcd8030c684949373997ef2f03cdf8_-py3-none-any.whl size=154243 sha256=cfb231aac6c67e4cdaf36fd4e2087a1f86c79ca16857cc5ecb98227a1b270e6c\n",
            "  Stored in directory: /tmp/pip-ephem-wheel-cache-2ylkmsjg/wheels/cc/c4/d8/5341e93b6376c5c929c49469fce21155eb69cef1a4da4ce32c\n",
            "\u001b[33m  WARNING: Built wheel for tensorflow-docs is invalid: Metadata 1.2 mandates PEP 440 version, but '0.0.0c60db3aa06bcd8030c684949373997ef2f03cdf8-' is not\u001b[0m\n",
            "Failed to build tensorflow-docs\n",
            "Installing collected packages: tensorflow-docs\n",
            "    Running setup.py install for tensorflow-docs ... \u001b[?25l\u001b[?25hdone\n",
            "\u001b[33m  DEPRECATION: tensorflow-docs was installed using the legacy 'setup.py install' method, because a wheel could not be built for it. A possible replacement is to fix the wheel build issue reported above. You can find discussion regarding this at https://github.com/pypa/pip/issues/8368.\u001b[0m\n",
            "Successfully installed tensorflow-docs-0.0.0c60db3aa06bcd8030c684949373997ef2f03cdf8-\n"
          ],
          "name": "stdout"
        }
      ]
    },
    {
      "cell_type": "code",
      "metadata": {
        "id": "IOchLkmPgJfI"
      },
      "source": [
        "import tensorflow_docs as tfdocs\n",
        "import tensorflow_docs.modeling "
      ],
      "execution_count": null,
      "outputs": []
    },
    {
      "cell_type": "code",
      "metadata": {
        "colab": {
          "base_uri": "https://localhost:8080/"
        },
        "id": "OBe_dZhSgoV9",
        "collapsed": true,
        "outputId": "98923711-a6a8-4479-8c31-decb18b18a41"
      },
      "source": [
        "EPOCHS = 10000\n",
        "\n",
        "history = model.fit(X,Y,\n",
        "  epochs=EPOCHS, verbose=0,\n",
        "  callbacks=[tfdocs.modeling.EpochDots()])"
      ],
      "execution_count": null,
      "outputs": [
        {
          "output_type": "stream",
          "text": [
            "\n",
            "Epoch: 0, loss:0.0452,  mae:0.0978,  mse:0.0452,  \n",
            "....................................................................................................\n",
            "Epoch: 100, loss:0.0423,  mae:0.1082,  mse:0.0423,  \n",
            "....................................................................................................\n",
            "Epoch: 200, loss:0.0558,  mae:0.1168,  mse:0.0558,  \n",
            "....................................................................................................\n",
            "Epoch: 300, loss:0.0653,  mae:0.1154,  mse:0.0653,  \n",
            "....................................................................................................\n",
            "Epoch: 400, loss:0.0445,  mae:0.0900,  mse:0.0445,  \n",
            "....................................................................................................\n",
            "Epoch: 500, loss:0.0462,  mae:0.1007,  mse:0.0462,  \n",
            "....................................................................................................\n",
            "Epoch: 600, loss:0.0448,  mae:0.1057,  mse:0.0448,  \n",
            "....................................................................................................\n",
            "Epoch: 700, loss:0.0405,  mae:0.0879,  mse:0.0405,  \n",
            "....................................................................................................\n",
            "Epoch: 800, loss:0.0545,  mae:0.1056,  mse:0.0545,  \n",
            "....................................................................................................\n",
            "Epoch: 900, loss:0.0413,  mae:0.0974,  mse:0.0413,  \n",
            "....................................................................................................\n",
            "Epoch: 1000, loss:0.0469,  mae:0.1167,  mse:0.0469,  \n",
            "....................................................................................................\n",
            "Epoch: 1100, loss:0.1283,  mae:0.1608,  mse:0.1283,  \n",
            "....................................................................................................\n",
            "Epoch: 1200, loss:0.0496,  mae:0.1183,  mse:0.0496,  \n",
            "....................................................................................................\n",
            "Epoch: 1300, loss:0.0398,  mae:0.0894,  mse:0.0398,  \n",
            "....................................................................................................\n",
            "Epoch: 1400, loss:0.0407,  mae:0.0903,  mse:0.0407,  \n",
            "....................................................................................................\n",
            "Epoch: 1500, loss:0.0437,  mae:0.1002,  mse:0.0437,  \n",
            "....................................................................................................\n",
            "Epoch: 1600, loss:0.0437,  mae:0.0887,  mse:0.0437,  \n",
            "....................................................................................................\n",
            "Epoch: 1700, loss:0.0417,  mae:0.0974,  mse:0.0417,  \n",
            "....................................................................................................\n",
            "Epoch: 1800, loss:0.0467,  mae:0.1024,  mse:0.0467,  \n",
            "....................................................................................................\n",
            "Epoch: 1900, loss:0.0468,  mae:0.1068,  mse:0.0468,  \n",
            "....................................................................................................\n",
            "Epoch: 2000, loss:0.0511,  mae:0.1150,  mse:0.0511,  \n",
            "....................................................................................................\n",
            "Epoch: 2100, loss:0.0546,  mae:0.1110,  mse:0.0546,  \n",
            "....................................................................................................\n",
            "Epoch: 2200, loss:0.0400,  mae:0.0952,  mse:0.0400,  \n",
            "....................................................................................................\n",
            "Epoch: 2300, loss:0.0438,  mae:0.1030,  mse:0.0438,  \n",
            "....................................................................................................\n",
            "Epoch: 2400, loss:0.0543,  mae:0.1167,  mse:0.0543,  \n",
            "....................................................................................................\n",
            "Epoch: 2500, loss:0.0622,  mae:0.1265,  mse:0.0622,  \n",
            "....................................................................................................\n",
            "Epoch: 2600, loss:0.0448,  mae:0.1117,  mse:0.0448,  \n",
            "....................................................................................................\n",
            "Epoch: 2700, loss:0.0461,  mae:0.1001,  mse:0.0461,  \n",
            "....................................................................................................\n",
            "Epoch: 2800, loss:0.0439,  mae:0.1003,  mse:0.0439,  \n",
            "....................................................................................................\n",
            "Epoch: 2900, loss:0.0428,  mae:0.1067,  mse:0.0428,  \n",
            "....................................................................................................\n",
            "Epoch: 3000, loss:0.0443,  mae:0.1042,  mse:0.0443,  \n",
            "....................................................................................................\n",
            "Epoch: 3100, loss:0.0451,  mae:0.0936,  mse:0.0451,  \n",
            "....................................................................................................\n",
            "Epoch: 3200, loss:0.0378,  mae:0.1000,  mse:0.0378,  \n",
            "....................................................................................................\n",
            "Epoch: 3300, loss:0.1150,  mae:0.1562,  mse:0.1150,  \n",
            "....................................................................................................\n",
            "Epoch: 3400, loss:0.0392,  mae:0.0904,  mse:0.0392,  \n",
            "....................................................................................................\n",
            "Epoch: 3500, loss:0.0464,  mae:0.1198,  mse:0.0464,  \n",
            "....................................................................................................\n",
            "Epoch: 3600, loss:0.0527,  mae:0.1188,  mse:0.0527,  \n",
            "....................................................................................................\n",
            "Epoch: 3700, loss:0.0367,  mae:0.0903,  mse:0.0367,  \n",
            "....................................................................................................\n",
            "Epoch: 3800, loss:0.0451,  mae:0.1049,  mse:0.0451,  \n",
            "....................................................................................................\n",
            "Epoch: 3900, loss:0.0439,  mae:0.1061,  mse:0.0439,  \n",
            "....................................................................................................\n",
            "Epoch: 4000, loss:0.0400,  mae:0.1037,  mse:0.0400,  \n",
            "....................................................................................................\n",
            "Epoch: 4100, loss:0.0404,  mae:0.0880,  mse:0.0404,  \n",
            "....................................................................................................\n",
            "Epoch: 4200, loss:0.0411,  mae:0.0926,  mse:0.0411,  \n",
            "....................................................................................................\n",
            "Epoch: 4300, loss:0.0422,  mae:0.1001,  mse:0.0422,  \n",
            "....................................................................................................\n",
            "Epoch: 4400, loss:0.0404,  mae:0.0884,  mse:0.0404,  \n",
            "....................................................................................................\n",
            "Epoch: 4500, loss:0.0445,  mae:0.1090,  mse:0.0445,  \n",
            "....................................................................................................\n",
            "Epoch: 4600, loss:0.0460,  mae:0.1046,  mse:0.0460,  \n",
            "....................................................................................................\n",
            "Epoch: 4700, loss:0.0769,  mae:0.1499,  mse:0.0769,  \n",
            "....................................................................................................\n",
            "Epoch: 4800, loss:0.0350,  mae:0.0914,  mse:0.0350,  \n",
            "....................................................................................................\n",
            "Epoch: 4900, loss:0.0449,  mae:0.1092,  mse:0.0449,  \n",
            "....................................................................................................\n",
            "Epoch: 5000, loss:0.0347,  mae:0.0895,  mse:0.0347,  \n",
            "....................................................................................................\n",
            "Epoch: 5100, loss:0.0444,  mae:0.0980,  mse:0.0444,  \n",
            "....................................................................................................\n",
            "Epoch: 5200, loss:0.0479,  mae:0.1085,  mse:0.0479,  \n",
            "....................................................................................................\n",
            "Epoch: 5300, loss:0.0409,  mae:0.0981,  mse:0.0409,  \n",
            "....................................................................................................\n",
            "Epoch: 5400, loss:0.0409,  mae:0.0898,  mse:0.0409,  \n",
            "....................................................................................................\n",
            "Epoch: 5500, loss:0.0531,  mae:0.1106,  mse:0.0531,  \n",
            "....................................................................................................\n",
            "Epoch: 5600, loss:0.0363,  mae:0.0905,  mse:0.0363,  \n",
            "....................................................................................................\n",
            "Epoch: 5700, loss:0.0361,  mae:0.0940,  mse:0.0361,  \n",
            "....................................................................................................\n",
            "Epoch: 5800, loss:0.0335,  mae:0.0800,  mse:0.0335,  \n",
            "....................................................................................................\n",
            "Epoch: 5900, loss:0.0360,  mae:0.1062,  mse:0.0360,  \n",
            "....................................................................................................\n",
            "Epoch: 6000, loss:0.0363,  mae:0.1011,  mse:0.0363,  \n",
            "....................................................................................................\n",
            "Epoch: 6100, loss:0.0396,  mae:0.1045,  mse:0.0396,  \n",
            "....................................................................................................\n",
            "Epoch: 6200, loss:0.0374,  mae:0.0979,  mse:0.0374,  \n",
            "....................................................................................................\n",
            "Epoch: 6300, loss:0.0392,  mae:0.0862,  mse:0.0392,  \n",
            "....................................................................................................\n",
            "Epoch: 6400, loss:0.0577,  mae:0.1277,  mse:0.0577,  \n",
            "....................................................................................................\n",
            "Epoch: 6500, loss:0.0373,  mae:0.0964,  mse:0.0373,  \n",
            "....................................................................................................\n",
            "Epoch: 6600, loss:0.0362,  mae:0.0903,  mse:0.0362,  \n",
            "....................................................................................................\n",
            "Epoch: 6700, loss:0.0414,  mae:0.1028,  mse:0.0414,  \n",
            "....................................................................................................\n",
            "Epoch: 6800, loss:0.0435,  mae:0.1186,  mse:0.0435,  \n",
            "....................................................................................................\n",
            "Epoch: 6900, loss:0.0460,  mae:0.0973,  mse:0.0460,  \n",
            "....................................................................................................\n",
            "Epoch: 7000, loss:0.0836,  mae:0.1168,  mse:0.0836,  \n",
            "....................................................................................................\n",
            "Epoch: 7100, loss:0.0980,  mae:0.1217,  mse:0.0980,  \n",
            "....................................................................................................\n",
            "Epoch: 7200, loss:0.0322,  mae:0.0795,  mse:0.0322,  \n",
            "....................................................................................................\n",
            "Epoch: 7300, loss:0.0405,  mae:0.1131,  mse:0.0405,  \n",
            "....................................................................................................\n",
            "Epoch: 7400, loss:0.0338,  mae:0.0886,  mse:0.0338,  \n",
            "....................................................................................................\n",
            "Epoch: 7500, loss:0.0341,  mae:0.0834,  mse:0.0341,  \n",
            "....................................................................................................\n",
            "Epoch: 7600, loss:0.0340,  mae:0.0825,  mse:0.0340,  \n",
            "....................................................................................................\n",
            "Epoch: 7700, loss:0.0608,  mae:0.1199,  mse:0.0608,  \n",
            "....................................................................................................\n",
            "Epoch: 7800, loss:0.0306,  mae:0.0768,  mse:0.0306,  \n",
            "....................................................................................................\n",
            "Epoch: 7900, loss:0.0293,  mae:0.0832,  mse:0.0293,  \n",
            "....................................................................................................\n",
            "Epoch: 8000, loss:0.0547,  mae:0.1188,  mse:0.0547,  \n",
            "....................................................................................................\n",
            "Epoch: 8100, loss:0.0377,  mae:0.0893,  mse:0.0377,  \n",
            "....................................................................................................\n",
            "Epoch: 8200, loss:0.0843,  mae:0.1299,  mse:0.0843,  \n",
            "....................................................................................................\n",
            "Epoch: 8300, loss:0.0377,  mae:0.1122,  mse:0.0377,  \n",
            "....................................................................................................\n",
            "Epoch: 8400, loss:0.0477,  mae:0.1052,  mse:0.0477,  \n",
            "....................................................................................................\n",
            "Epoch: 8500, loss:0.0299,  mae:0.0850,  mse:0.0299,  \n",
            "....................................................................................................\n",
            "Epoch: 8600, loss:0.0313,  mae:0.0855,  mse:0.0313,  \n",
            "....................................................................................................\n",
            "Epoch: 8700, loss:0.0349,  mae:0.1006,  mse:0.0349,  \n",
            "....................................................................................................\n",
            "Epoch: 8800, loss:0.0573,  mae:0.1074,  mse:0.0573,  \n",
            "....................................................................................................\n",
            "Epoch: 8900, loss:0.0544,  mae:0.1145,  mse:0.0544,  \n",
            "....................................................................................................\n",
            "Epoch: 9000, loss:0.0392,  mae:0.0998,  mse:0.0392,  \n",
            "....................................................................................................\n",
            "Epoch: 9100, loss:0.0471,  mae:0.1121,  mse:0.0471,  \n",
            "....................................................................................................\n",
            "Epoch: 9200, loss:0.0342,  mae:0.0975,  mse:0.0342,  \n",
            "....................................................................................................\n",
            "Epoch: 9300, loss:0.0357,  mae:0.0876,  mse:0.0357,  \n",
            "....................................................................................................\n",
            "Epoch: 9400, loss:0.0534,  mae:0.1240,  mse:0.0534,  \n",
            "....................................................................................................\n",
            "Epoch: 9500, loss:0.0750,  mae:0.1315,  mse:0.0750,  \n",
            "....................................................................................................\n",
            "Epoch: 9600, loss:0.0377,  mae:0.0935,  mse:0.0377,  \n",
            "....................................................................................................\n",
            "Epoch: 9700, loss:0.0609,  mae:0.1290,  mse:0.0609,  \n",
            "....................................................................................................\n",
            "Epoch: 9800, loss:0.0391,  mae:0.1055,  mse:0.0391,  \n",
            "....................................................................................................\n",
            "Epoch: 9900, loss:0.0831,  mae:0.1242,  mse:0.0831,  \n",
            "...................................................................................................."
          ],
          "name": "stdout"
        }
      ]
    },
    {
      "cell_type": "markdown",
      "metadata": {
        "id": "4M49GhA-hoEW"
      },
      "source": [
        "## **Gráfica Valores Reales V/s Predicción**"
      ]
    },
    {
      "cell_type": "code",
      "metadata": {
        "colab": {
          "base_uri": "https://localhost:8080/",
          "height": 296
        },
        "id": "oux5HeiZh0A0",
        "outputId": "84783547-7216-45e1-c406-7fe26fd62c28"
      },
      "source": [
        "import matplotlib.pyplot as plt\n",
        "test_predictions = model.predict(X).flatten()\n",
        "a = plt.axes(aspect = 'equal')\n",
        "plt.scatter(Y, test_predictions)\n",
        "plt.xlabel('X')\n",
        "plt.xlabel('Y')\n",
        "_=plt.plot(Y,Y,color = 'orange')\n",
        "r2_score(Y, test_predictions)\n"
      ],
      "execution_count": null,
      "outputs": [
        {
          "output_type": "execute_result",
          "data": {
            "text/plain": [
              "0.7324868301460785"
            ]
          },
          "metadata": {
            "tags": []
          },
          "execution_count": 54
        },
        {
          "output_type": "display_data",
          "data": {
            "image/png": "[encoded data removed]",
            "text/plain": [
              "<Figure size 432x288 with 1 Axes>"
            ]
          },
          "metadata": {
            "tags": [],
            "needs_background": "light"
          }
        }
      ]
    },
    {
      "cell_type": "code",
      "metadata": {
        "colab": {
          "base_uri": "https://localhost:8080/"
        },
        "id": "zp7U25z18X1T",
        "outputId": "838a8ffa-efbd-42a2-e44f-b0a303a7de12"
      },
      "source": [
        "prediction = model.predict(X)\n",
        "\n",
        "print(prediction)\n",
        "\n",
        "np.savetxt(\"predict100.csv\", prediction, delimiter=\",\")"
      ],
      "execution_count": null,
      "outputs": [
        {
          "output_type": "stream",
          "text": [
            "[[ 6.63442016e-02]\n",
            " [ 4.29337621e-02]\n",
            " [ 2.40958333e-02]\n",
            " [ 1.77186131e-02]\n",
            " [ 4.48308587e-02]\n",
            " [ 1.11156166e-01]\n",
            " [-1.71586871e-02]\n",
            " [-3.29864621e-02]\n",
            " [ 4.84504104e-02]\n",
            " [ 5.07029891e-02]\n",
            " [ 6.78204894e-02]\n",
            " [ 8.70996714e-03]\n",
            " [ 6.56549335e-02]\n",
            " [ 4.85023856e-02]\n",
            " [ 6.20921254e-02]\n",
            " [-4.94605303e-03]\n",
            " [-8.30274820e-03]\n",
            " [-1.67785287e-02]\n",
            " [-1.40510619e-01]\n",
            " [ 4.25386429e-03]\n",
            " [-2.92554200e-01]\n",
            " [ 6.53024912e-02]\n",
            " [ 8.10853839e-02]\n",
            " [-1.04742646e-02]\n",
            " [-1.98734403e-02]\n",
            " [ 3.03773284e-02]\n",
            " [ 7.30666518e-02]\n",
            " [ 5.40823340e-02]\n",
            " [ 5.55819869e-02]\n",
            " [ 1.41405463e-02]\n",
            " [ 1.64279342e-02]\n",
            " [-1.20821595e-02]\n",
            " [ 3.39879394e-02]\n",
            " [ 5.28544784e-02]\n",
            " [-8.03619623e-03]\n",
            " [ 4.17232513e-03]\n",
            " [-2.12221742e-02]\n",
            " [ 1.05496645e-02]\n",
            " [ 2.69112825e-01]\n",
            " [ 6.33754134e-02]\n",
            " [ 8.28762650e-02]\n",
            " [-7.39386678e-02]\n",
            " [ 1.11262202e-02]\n",
            " [-2.29725242e-02]\n",
            " [-9.69607830e-02]\n",
            " [-3.83225083e-02]\n",
            " [ 2.68024206e-02]\n",
            " [ 8.49810123e-01]\n",
            " [-4.90053296e-02]\n",
            " [ 3.04296613e-02]\n",
            " [ 4.05009389e-02]\n",
            " [ 1.28993988e-02]\n",
            " [ 3.03647101e-01]\n",
            " [ 7.23820508e-01]\n",
            " [ 4.23502535e-01]\n",
            " [ 5.57959080e-03]\n",
            " [-1.36721194e-01]\n",
            " [ 2.04288340e+00]\n",
            " [-1.25204921e-02]\n",
            " [ 9.80943441e-03]\n",
            " [ 4.81331944e-02]\n",
            " [-1.83480978e-03]\n",
            " [-8.17763805e-03]\n",
            " [-1.55244470e-02]\n",
            " [-1.83032155e-02]\n",
            " [-2.02253461e-02]\n",
            " [-2.48653293e-02]\n",
            " [-2.80641913e-02]\n",
            " [-1.57274306e-01]\n",
            " [ 1.43910050e-02]\n",
            " [ 1.73994899e-02]\n",
            " [-1.86904073e-02]\n",
            " [ 2.76678801e-02]\n",
            " [-4.50816751e-02]\n",
            " [-8.57239962e-03]\n",
            " [ 5.59946358e-01]\n",
            " [ 2.28913212e+00]\n",
            " [ 1.51527345e+00]\n",
            " [-2.18535066e-02]\n",
            " [ 3.14701200e-02]\n",
            " [-1.67433619e-02]\n",
            " [ 7.32016563e-03]\n",
            " [ 6.70187712e-01]\n",
            " [ 7.47498870e-02]\n",
            " [ 5.30710340e-01]\n",
            " [ 1.20109320e-03]\n",
            " [ 8.04258287e-01]\n",
            " [ 1.15593076e-02]\n",
            " [-2.29635835e-02]\n",
            " [ 3.60912085e-03]\n",
            " [-3.10918689e-02]\n",
            " [ 3.15937400e-02]\n",
            " [-2.91162729e-03]\n",
            " [ 6.40668273e-02]\n",
            " [ 4.76749718e-01]\n",
            " [-1.55182481e-02]\n",
            " [-7.70926476e-03]\n",
            " [-1.86637044e-02]\n",
            " [-2.69836187e-03]\n",
            " [-2.14236975e-03]\n",
            " [-3.65262628e-02]\n",
            " [ 1.57578588e-02]\n",
            " [-1.45034194e-02]\n",
            " [-8.57196450e-02]\n",
            " [-8.28731060e-03]\n",
            " [ 1.48992848e+00]\n",
            " [-2.47768760e-02]\n",
            " [ 7.73692727e-02]\n",
            " [ 3.63757014e-02]\n",
            " [ 4.32423949e-02]\n",
            " [-1.54531598e-02]\n",
            " [ 9.61416960e-03]\n",
            " [ 3.82694602e-02]\n",
            " [-7.90697336e-03]\n",
            " [-2.27510929e-04]\n",
            " [-1.93510652e-02]\n",
            " [ 9.88537073e-03]\n",
            " [-1.26381516e-02]\n",
            " [ 3.53059173e-02]\n",
            " [-1.35690570e-02]\n",
            " [-1.75467134e-02]\n",
            " [-2.09876895e-02]\n",
            " [-6.24046922e-02]\n",
            " [ 1.45824552e-02]\n",
            " [-2.69219279e-02]\n",
            " [-2.01202035e-02]\n",
            " [-6.08740449e-02]\n",
            " [ 7.71325827e-03]\n",
            " [ 3.37021947e-02]\n",
            " [-1.23184264e-01]\n",
            " [-6.75442815e-02]\n",
            " [ 9.46967065e-01]\n",
            " [ 2.69145799e+00]\n",
            " [-5.12844920e-02]\n",
            " [-1.21398568e-02]\n",
            " [ 1.28980100e-01]\n",
            " [-5.56999445e-03]\n",
            " [ 4.72131371e-02]\n",
            " [ 1.23437047e-02]\n",
            " [-2.90010571e-02]\n",
            " [-7.69583583e-02]\n",
            " [ 5.44412732e-02]\n",
            " [ 1.23723149e-02]\n",
            " [-5.86672425e-02]\n",
            " [-7.39836693e-03]\n",
            " [-3.95930409e-02]\n",
            " [-3.26672196e-02]\n",
            " [-1.75840855e-02]\n",
            " [-5.42073846e-02]\n",
            " [-1.38098001e-03]\n",
            " [ 2.01600790e-03]\n",
            " [-2.28219628e-02]\n",
            " [-2.13041902e-02]\n",
            " [ 5.64569235e-03]\n",
            " [ 3.09808850e-02]\n",
            " [-7.95262456e-02]\n",
            " [ 3.82363796e-04]\n",
            " [-3.34161520e-03]\n",
            " [ 4.43873703e-01]\n",
            " [ 3.68471146e-02]\n",
            " [-2.45661139e-02]\n",
            " [-7.64071941e-03]\n",
            " [-1.91558003e-02]\n",
            " [-3.52745652e-02]\n",
            " [-2.03601718e-02]\n",
            " [-1.52800679e-02]\n",
            " [-2.01274216e-01]\n",
            " [ 4.32957411e-02]\n",
            " [-1.15433335e-02]\n",
            " [ 3.99768353e-04]\n",
            " [ 4.93611693e-02]\n",
            " [-2.07554400e-01]\n",
            " [-4.81224656e-02]\n",
            " [ 4.89258170e-02]\n",
            " [ 1.66635513e-02]\n",
            " [-6.69899583e-02]\n",
            " [-3.37865949e-02]\n",
            " [-2.91467309e-02]\n",
            " [ 2.05038786e-02]\n",
            " [-1.72069669e-02]\n",
            " [ 7.23292828e-02]\n",
            " [-9.88751650e-03]\n",
            " [ 2.11919308e+00]\n",
            " [-2.99268365e-02]\n",
            " [-2.52361894e-02]\n",
            " [-3.80268693e-02]\n",
            " [-2.63755918e-02]\n",
            " [-2.03856826e-02]\n",
            " [ 2.10713744e-02]\n",
            " [-1.05538189e-01]\n",
            " [-2.18402743e-02]\n",
            " [-3.34754586e-02]\n",
            " [-3.40338349e-02]\n",
            " [-5.56905866e-02]\n",
            " [-6.52011037e-02]\n",
            " [-1.17270350e-02]\n",
            " [-8.15159082e-03]\n",
            " [-3.00989747e-02]\n",
            " [-4.59676981e-03]\n",
            " [ 7.36621022e-02]\n",
            " [-3.48464847e-02]\n",
            " [ 6.99768662e-02]\n",
            " [-1.73016191e-02]\n",
            " [ 3.50009799e-02]\n",
            " [-7.45435357e-02]\n",
            " [-4.29390073e-02]\n",
            " [-4.92380261e-02]\n",
            " [-8.07863474e-03]\n",
            " [ 5.31476736e-03]\n",
            " [-1.76420987e-01]\n",
            " [ 5.37335873e-04]\n",
            " [-1.71719193e-02]]\n"
          ],
          "name": "stdout"
        }
      ]
    }
  ]
}